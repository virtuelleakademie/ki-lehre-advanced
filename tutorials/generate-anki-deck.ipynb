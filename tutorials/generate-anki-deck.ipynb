{
 "cells": [
  {
   "cell_type": "markdown",
   "metadata": {},
   "source": [
    "# Generate Anki Flashcards\n",
    "\n",
    "## Setup\n",
    "Instructions:\n",
    "\n",
    "1. Create a new virtual environment:\n",
    "```sh\n",
    "python -m venv .venv\n",
    "```\n",
    "2. Activate the environment:\n",
    "```sh\n",
    "source .venv/bin/activate\n",
    "```\n",
    "3. Install the dependencies:\n",
    "```sh\n",
    "pip install -r requirements.txt\n",
    "```\n",
    "4. Create a `.env` file and add your OpenAI API key:\n",
    "```sh\n",
    "OPENAI_API_KEY=<your-openai-api-key>\n",
    "```\n",
    "\n",
    "## OpenAI client and pydantic models"
   ]
  },
  {
   "cell_type": "code",
   "execution_count": 8,
   "metadata": {},
   "outputs": [],
   "source": [
    "import os\n",
    "import csv\n",
    "from dotenv import load_dotenv\n",
    "from openai import OpenAI \n",
    "from textwrap import dedent \n",
    "\n",
    "# Import Pydantic for data validation and typing\n",
    "from pydantic import BaseModel, Field\n",
    "from typing import List"
   ]
  },
  {
   "cell_type": "code",
   "execution_count": 9,
   "metadata": {},
   "outputs": [
    {
     "data": {
      "text/plain": [
       "True"
      ]
     },
     "execution_count": 9,
     "metadata": {},
     "output_type": "execute_result"
    }
   ],
   "source": [
    "load_dotenv()"
   ]
  },
  {
   "cell_type": "markdown",
   "metadata": {},
   "source": [
    "If you want to see the API key, you can uncomment the following line:"
   ]
  },
  {
   "cell_type": "code",
   "execution_count": 3,
   "metadata": {},
   "outputs": [],
   "source": [
    "# print(os.getenv(\"OPENAI_API_KEY\"))"
   ]
  },
  {
   "cell_type": "markdown",
   "metadata": {},
   "source": [
    "Initialize OpenAI client:"
   ]
  },
  {
   "cell_type": "code",
   "execution_count": 4,
   "metadata": {},
   "outputs": [],
   "source": [
    "client = OpenAI()"
   ]
  },
  {
   "cell_type": "markdown",
   "metadata": {},
   "source": [
    "Define the AnkiFlashcard and AnkiDeck pydantic models:\n",
    "\n",
    "- AnkiFlashcard: Represents a single flashcard with a question, answer, and tags\n",
    "- AnkiDeck: Represents a collection of flashcards with a deck name\n"
   ]
  },
  {
   "cell_type": "code",
   "execution_count": 5,
   "metadata": {},
   "outputs": [],
   "source": [
    "class AnkiFlashcard(BaseModel):\n",
    "    \"\"\"\n",
    "    Model representing a single Anki flashcard with question, answer, and tags.\n",
    "    \"\"\"\n",
    "    # Define required fields with descriptions\n",
    "    question: str = Field(..., description=\"The front side of the flashcard containing the question\")\n",
    "    answer: str = Field(..., description=\"The back side of the flashcard containing the answer\")\n",
    "    tags: List[str] = Field(..., description=\"List of tags associated with the flashcard\")\n",
    "\n",
    "class AnkiDeck(BaseModel):\n",
    "    \"\"\"\n",
    "    Model representing a complete Anki deck containing multiple flashcards.\n",
    "    \"\"\"\n",
    "    # Define required fields with descriptions\n",
    "    cards: List[AnkiFlashcard] = Field(..., description=\"List of flashcards in the deck\")\n",
    "    deck_name: str = Field(..., description=\"Name of the Anki deck\")"
   ]
  },
  {
   "cell_type": "markdown",
   "metadata": {},
   "source": [
    "## Function to generate structured flashcards\n",
    "\n",
    "The function takes a text input and generates a structured deck of Anki flashcards using the OpenAI API:\n",
    "\n",
    "1. Validates that the requested number of cards is at least 1\n",
    "2. Makes an API call to OpenAI with:\n",
    "   - System prompt that defines the flashcard creation task\n",
    "   - User prompt containing the input text\n",
    "   - Response format set to our AnkiDeck Pydantic model\n",
    "3. Returns the parsed response as a validated AnkiDeck object\n"
   ]
  },
  {
   "cell_type": "code",
   "execution_count": 6,
   "metadata": {},
   "outputs": [],
   "source": [
    "def generate_deck(text: str, deck_name: str, num_cards: int = 5, model: str = \"gpt-4o-mini\") -> AnkiDeck:\n",
    "    \"\"\"\n",
    "    Generate structured flashcards using GPT-4o or GPT-4o-mini with enforced Pydantic model output.\n",
    "    \n",
    "    Args:\n",
    "        text (str): The input text to generate flashcards from\n",
    "        deck_name (str): Name for the Anki deck\n",
    "        num_cards (int): Number of flashcards to generate (default: 5)\n",
    "        \n",
    "    Returns:\n",
    "        AnkiDeck: A structured deck of flashcards with validation\n",
    "        \n",
    "    Raises:\n",
    "        ValueError: If num_cards is less than 1\n",
    "    \"\"\"\n",
    "    # Validate input\n",
    "    if num_cards < 1:\n",
    "        raise ValueError(\"Number of cards must be at least 1\")\n",
    "    \n",
    "    # Make API call with structured output format\n",
    "    completion = client.beta.chat.completions.parse(\n",
    "        model=model,\n",
    "        messages=[\n",
    "            {\n",
    "                \"role\": \"system\",\n",
    "                \"content\": dedent(f\"\"\"\n",
    "                    You are an expert at creating Anki flashcards. Your task is to:\n",
    "                    1. Read the provided text\n",
    "                    2. Create {num_cards} Anki flashcards that cover the main concepts\n",
    "                    3. Add relevant tags to each flashcard\n",
    "                    4. Structure the output as an Anki deck with the name \"{deck_name}\".\"\"\")\n",
    "            },\n",
    "            {\n",
    "                \"role\": \"user\",\n",
    "                \"content\": f\"Please create Anki flashcards for the following text: {text}\"\n",
    "            }\n",
    "        ],\n",
    "        response_format=AnkiDeck,\n",
    "    )\n",
    "    \n",
    "    # Return the parsed response\n",
    "    return completion.choices[0].message.parsed"
   ]
  },
  {
   "cell_type": "markdown",
   "metadata": {},
   "source": [
    "## Test the function"
   ]
  },
  {
   "cell_type": "markdown",
   "metadata": {},
   "source": [
    "We'll first test the function with the baroque essay:"
   ]
  },
  {
   "cell_type": "code",
   "execution_count": 11,
   "metadata": {},
   "outputs": [],
   "source": [
    "with open(\"assets/essays/baroque.md\", \"r\") as file:\n",
    "    baroque = file.read()"
   ]
  },
  {
   "cell_type": "markdown",
   "metadata": {},
   "source": [
    "print the first 5 lines of the baroque essay:"
   ]
  },
  {
   "cell_type": "code",
   "execution_count": 12,
   "metadata": {},
   "outputs": [
    {
     "name": "stdout",
     "output_type": "stream",
     "text": [
      "# The Baroque Era: Birth of Musical Drama (1600-1750)\n",
      "\n",
      "The Baroque era represents one of the most transformative periods in Western musical history, marked by dramatic innovations in both compositional technique and musical expression. This period witnessed the birth of opera, the development of instrumental programs, and the establishment of musical practices that would influence composers for centuries to come.\n",
      "\n",
      "## The Birth of Opera and Dramatic Expression\n"
     ]
    }
   ],
   "source": [
    "print('\\n'.join(baroque.splitlines()[:5]))"
   ]
  },
  {
   "cell_type": "markdown",
   "metadata": {},
   "source": [
    "Call the function with the baroque essay and print the resulting deck. We are\n",
    "using the `gpt-4o-mini` model to generate a deck containing 5 flashcards."
   ]
  },
  {
   "cell_type": "code",
   "execution_count": 13,
   "metadata": {},
   "outputs": [],
   "source": [
    "baroque_deck = generate_deck(baroque, \"Baroque Period\", num_cards=5, model=\"gpt-4o-mini\")"
   ]
  },
  {
   "cell_type": "code",
   "execution_count": 14,
   "metadata": {},
   "outputs": [
    {
     "data": {
      "text/plain": [
       "AnkiDeck(cards=[AnkiFlashcard(question='What significant musical genre was born during the Baroque era?', answer='Opera was born during the Baroque era, particularly through the efforts of the Camerata in Florence.', tags=['Baroque Era', 'Opera', 'Musical Innovation']), AnkiFlashcard(question='Which composition is considered the first masterpiece of opera?', answer=\"Monteverdi's 'L'Orfeo' (1607) is regarded as the first masterpiece of opera.\", tags=['Baroque Era', \"L'Orfeo\", 'Opera']), AnkiFlashcard(question='What musical practice was established during the Baroque era to support harmonic structure?', answer='The practice of basso continuo was established, providing a bass line with chord symbols as the harmonic foundation.', tags=['Baroque Era', 'Basso Continuo', 'Harmony']), AnkiFlashcard(question='Who are two significant composers associated with the Baroque period?', answer='J.S. Bach and Jean-Baptiste Lully were significant composers of the Baroque period.', tags=['Baroque Era', 'J.S. Bach', 'Jean-Baptiste Lully']), AnkiFlashcard(question=\"What impact did the Baroque era have on Western music's future?\", answer='The Baroque era established functional harmony and important musical forms that influenced Classical and Romantic music.', tags=['Baroque Era', 'Musical Legacy', 'Functional Harmony'])], deck_name='Baroque Period')"
      ]
     },
     "execution_count": 14,
     "metadata": {},
     "output_type": "execute_result"
    }
   ],
   "source": [
    "baroque_deck"
   ]
  },
  {
   "cell_type": "markdown",
   "metadata": {},
   "source": [
    "You can also access the individual cards in the deck:"
   ]
  },
  {
   "cell_type": "code",
   "execution_count": 15,
   "metadata": {},
   "outputs": [
    {
     "data": {
      "text/plain": [
       "[AnkiFlashcard(question='What significant musical genre was born during the Baroque era?', answer='Opera was born during the Baroque era, particularly through the efforts of the Camerata in Florence.', tags=['Baroque Era', 'Opera', 'Musical Innovation']),\n",
       " AnkiFlashcard(question='Which composition is considered the first masterpiece of opera?', answer=\"Monteverdi's 'L'Orfeo' (1607) is regarded as the first masterpiece of opera.\", tags=['Baroque Era', \"L'Orfeo\", 'Opera']),\n",
       " AnkiFlashcard(question='What musical practice was established during the Baroque era to support harmonic structure?', answer='The practice of basso continuo was established, providing a bass line with chord symbols as the harmonic foundation.', tags=['Baroque Era', 'Basso Continuo', 'Harmony']),\n",
       " AnkiFlashcard(question='Who are two significant composers associated with the Baroque period?', answer='J.S. Bach and Jean-Baptiste Lully were significant composers of the Baroque period.', tags=['Baroque Era', 'J.S. Bach', 'Jean-Baptiste Lully']),\n",
       " AnkiFlashcard(question=\"What impact did the Baroque era have on Western music's future?\", answer='The Baroque era established functional harmony and important musical forms that influenced Classical and Romantic music.', tags=['Baroque Era', 'Musical Legacy', 'Functional Harmony'])]"
      ]
     },
     "execution_count": 15,
     "metadata": {},
     "output_type": "execute_result"
    }
   ],
   "source": [
    "baroque_deck.cards"
   ]
  },
  {
   "cell_type": "markdown",
   "metadata": {},
   "source": [
    "Print all the cards in the deck:"
   ]
  },
  {
   "cell_type": "code",
   "execution_count": 16,
   "metadata": {},
   "outputs": [
    {
     "name": "stdout",
     "output_type": "stream",
     "text": [
      "Question: What significant musical genre was born during the Baroque era?\n",
      "Answer: Opera was born during the Baroque era, particularly through the efforts of the Camerata in Florence.\n",
      "Tags: Baroque Era, Opera, Musical Innovation\n",
      "--------------------\n",
      "Question: Which composition is considered the first masterpiece of opera?\n",
      "Answer: Monteverdi's 'L'Orfeo' (1607) is regarded as the first masterpiece of opera.\n",
      "Tags: Baroque Era, L'Orfeo, Opera\n",
      "--------------------\n",
      "Question: What musical practice was established during the Baroque era to support harmonic structure?\n",
      "Answer: The practice of basso continuo was established, providing a bass line with chord symbols as the harmonic foundation.\n",
      "Tags: Baroque Era, Basso Continuo, Harmony\n",
      "--------------------\n",
      "Question: Who are two significant composers associated with the Baroque period?\n",
      "Answer: J.S. Bach and Jean-Baptiste Lully were significant composers of the Baroque period.\n",
      "Tags: Baroque Era, J.S. Bach, Jean-Baptiste Lully\n",
      "--------------------\n",
      "Question: What impact did the Baroque era have on Western music's future?\n",
      "Answer: The Baroque era established functional harmony and important musical forms that influenced Classical and Romantic music.\n",
      "Tags: Baroque Era, Musical Legacy, Functional Harmony\n",
      "--------------------\n"
     ]
    }
   ],
   "source": [
    "for card in baroque_deck.cards:\n",
    "    print(f\"Question: {card.question}\")\n",
    "    print(f\"Answer: {card.answer}\")\n",
    "    print(f\"Tags: {', '.join(card.tags)}\")\n",
    "    print(\"-\" * 20)"
   ]
  },
  {
   "cell_type": "markdown",
   "metadata": {},
   "source": [
    "## Write deck to a CSV file\n",
    "We'll create a function to write the deck to a CSV file. The function takes an AnkiDeck object and a\n",
    "path to save the CSV file. It ensures the directory exists and writes the deck to\n",
    "a CSV file with the following columns: Question, Answer, Tags.\n"
   ]
  },
  {
   "cell_type": "code",
   "execution_count": 17,
   "metadata": {},
   "outputs": [],
   "source": [
    "def write_deck_to_csv(deck: AnkiDeck, output_path: str) -> None:\n",
    "    \"\"\"\n",
    "    Save an Anki deck to a CSV file.\n",
    "    \n",
    "    Args:\n",
    "        deck (AnkiDeck): The deck of flashcards to save\n",
    "        output_path (str): Path where the CSV file should be saved\n",
    "    \"\"\"\n",
    "    # Ensure the directory exists\n",
    "    os.makedirs(os.path.dirname(output_path), exist_ok=True)\n",
    "    \n",
    "    with open(output_path, 'w', newline='', encoding='utf-8') as csvfile:\n",
    "        writer = csv.writer(csvfile)\n",
    "        # Write header row\n",
    "        writer.writerow(['Question', 'Answer', 'Tags'])\n",
    "        # Write each flashcard as a row in the CSV\n",
    "        for card in deck.cards:\n",
    "            writer.writerow([card.question, card.answer, ', '.join(card.tags)])\n",
    "    print(f\"Successfully saved deck '{deck.deck_name}' to {output_path}\")"
   ]
  },
  {
   "cell_type": "markdown",
   "metadata": {},
   "source": [
    "Save the baroque deck to a CSV file:"
   ]
  },
  {
   "cell_type": "code",
   "execution_count": 18,
   "metadata": {},
   "outputs": [
    {
     "name": "stdout",
     "output_type": "stream",
     "text": [
      "Successfully saved deck 'Baroque Period' to assets/flashcards/baroque-flashcards.csv\n"
     ]
    }
   ],
   "source": [
    "write_deck_to_csv(baroque_deck, 'assets/flashcards/baroque-flashcards.csv')"
   ]
  },
  {
   "cell_type": "markdown",
   "metadata": {},
   "source": [
    "## Process all markdown files in essays \n",
    "\n",
    "Now we'll process all the markdown files in the `essays` directory and generate\n",
    "flashcards for each one.\n",
    "\n",
    "For simplicity, we will loop over all files. This could be made more efficient by\n",
    "using a function that takes a directory as an argument and returns a list of decks.\n",
    "\n",
    "First, we'll import the glob module for finding pathnames matching a pattern."
   ]
  },
  {
   "cell_type": "code",
   "execution_count": 19,
   "metadata": {},
   "outputs": [],
   "source": [
    "import glob"
   ]
  },
  {
   "cell_type": "markdown",
   "metadata": {},
   "source": [
    "Find all the markdown files in the `essays` directory:"
   ]
  },
  {
   "cell_type": "code",
   "execution_count": 20,
   "metadata": {},
   "outputs": [
    {
     "data": {
      "text/plain": [
       "['assets/essays/classical.md',\n",
       " 'assets/essays/modern.md',\n",
       " 'assets/essays/baroque.md',\n",
       " 'assets/essays/romantic.md']"
      ]
     },
     "execution_count": 20,
     "metadata": {},
     "output_type": "execute_result"
    }
   ],
   "source": [
    "essay_files = glob.glob(\"assets/essays/*.md\")\n",
    "essay_files"
   ]
  },
  {
   "cell_type": "markdown",
   "metadata": {},
   "source": [
    "Now we'll loop over all the files and generate flashcards for each one."
   ]
  },
  {
   "cell_type": "code",
   "execution_count": 21,
   "metadata": {},
   "outputs": [
    {
     "name": "stdout",
     "output_type": "stream",
     "text": [
      "Processing Classical...\n",
      "Successfully saved deck 'Classical' to assets/flashcards/classical-flashcards.csv\n",
      "Saved flashcards to assets/flashcards/classical-flashcards.csv\n",
      "Processing Modern...\n",
      "Successfully saved deck 'Modern' to assets/flashcards/modern-flashcards.csv\n",
      "Saved flashcards to assets/flashcards/modern-flashcards.csv\n",
      "Processing Baroque...\n",
      "Successfully saved deck 'Baroque' to assets/flashcards/baroque-flashcards.csv\n",
      "Saved flashcards to assets/flashcards/baroque-flashcards.csv\n",
      "Processing Romantic...\n",
      "Successfully saved deck 'Romantic' to assets/flashcards/romantic-flashcards.csv\n",
      "Saved flashcards to assets/flashcards/romantic-flashcards.csv\n"
     ]
    }
   ],
   "source": [
    "for essay_file in essay_files:\n",
    "    # Get the base filename without extension to use as deck name\n",
    "    base_name = os.path.basename(essay_file).replace('.md', '')\n",
    "    deck_name = base_name.replace('-', ' ').title()\n",
    "    \n",
    "    print(f\"Processing {deck_name}...\")\n",
    "    \n",
    "    # Read the essay content\n",
    "    with open(essay_file, \"r\") as file:\n",
    "        content = file.read()\n",
    "    \n",
    "    # Generate deck\n",
    "    deck = generate_deck(content, deck_name, num_cards=5, model=\"gpt-4o-mini\")\n",
    "    \n",
    "    # Save to CSV\n",
    "    output_path = f'assets/flashcards/{base_name}-flashcards.csv'\n",
    "    write_deck_to_csv(deck, output_path)\n",
    "    \n",
    "    print(f\"Saved flashcards to {output_path}\")"
   ]
  },
  {
   "cell_type": "code",
   "execution_count": null,
   "metadata": {},
   "outputs": [],
   "source": []
  }
 ],
 "metadata": {
  "kernelspec": {
   "display_name": ".venv",
   "language": "python",
   "name": "python3"
  },
  "language_info": {
   "codemirror_mode": {
    "name": "ipython",
    "version": 3
   },
   "file_extension": ".py",
   "mimetype": "text/x-python",
   "name": "python",
   "nbconvert_exporter": "python",
   "pygments_lexer": "ipython3",
   "version": "3.12.8"
  }
 },
 "nbformat": 4,
 "nbformat_minor": 2
}
