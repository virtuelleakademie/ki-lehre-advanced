{
 "cells": [
  {
   "cell_type": "code",
   "execution_count": 1,
   "metadata": {},
   "outputs": [],
   "source": [
    "import spacy\n"
   ]
  },
  {
   "cell_type": "code",
   "execution_count": 3,
   "metadata": {},
   "outputs": [],
   "source": [
    "\n",
    "# Load the German SpaCy model\n",
    "nlp = spacy.load(\"de_core_news_md\")\n"
   ]
  },
  {
   "cell_type": "code",
   "execution_count": 4,
   "metadata": {},
   "outputs": [],
   "source": [
    "\n",
    "# Analyze the sentence\n",
    "text = \"\"\"Die Familie, die sehr wohlhabend war, lebte in einem grossen Haus. \n",
    "Das Haus stand inmitten eines weitläufigen Gartens. Es war bekannt für seine \n",
    "prächtige Fassade und die grosszügigen\"\"\"\n"
   ]
  },
  {
   "cell_type": "code",
   "execution_count": 5,
   "metadata": {},
   "outputs": [],
   "source": [
    "\n",
    "doc = nlp(text)\n"
   ]
  },
  {
   "cell_type": "code",
   "execution_count": 6,
   "metadata": {},
   "outputs": [
    {
     "name": "stdout",
     "output_type": "stream",
     "text": [
      "Die             DET        nk         Familie\n",
      "Familie         NOUN       sb         lebte\n",
      ",               PUNCT      punct      Familie\n",
      "die             PRON       sb         war\n",
      "sehr            ADV        mo         wohlhabend\n",
      "wohlhabend      ADV        pd         war\n",
      "war             AUX        rc         Familie\n",
      ",               PUNCT      punct      lebte\n",
      "lebte           VERB       ROOT       lebte\n",
      "in              ADP        mo         lebte\n",
      "einem           DET        nk         Haus\n",
      "grossen         ADJ        nk         Haus\n",
      "Haus            NOUN       nk         in\n",
      ".               PUNCT      punct      lebte\n",
      "\n",
      "               SPACE      dep        .\n",
      "Das             DET        nk         Haus\n",
      "Haus            NOUN       sb         stand\n",
      "stand           VERB       ROOT       stand\n",
      "inmitten        ADP        mo         stand\n",
      "eines           DET        nk         Gartens\n",
      "weitläufigen    ADJ        nk         Gartens\n",
      "Gartens         NOUN       nk         inmitten\n",
      ".               PUNCT      punct      stand\n",
      "Es              PRON       sb         war\n",
      "war             AUX        ROOT       war\n",
      "bekannt         ADV        pd         war\n",
      "für             ADP        mo         bekannt\n",
      "seine           DET        nk         Fassade\n",
      "\n",
      "               SPACE      dep        seine\n",
      "prächtige       ADJ        nk         Fassade\n",
      "Fassade         NOUN       nk         für\n",
      "und             CCONJ      cd         Fassade\n",
      "die             DET        nk         grosszügigen\n",
      "grosszügigen    ADJ        cj         und\n"
     ]
    }
   ],
   "source": [
    "\n",
    "# Dependency parsing and POS tagging\n",
    "for token in doc:\n",
    "    print(f\"{token.text:15} {token.pos_:10} {token.dep_:10} {token.head.text}\")\n"
   ]
  },
  {
   "cell_type": "code",
   "execution_count": 7,
   "metadata": {},
   "outputs": [
    {
     "name": "stdout",
     "output_type": "stream",
     "text": [
      "Potential continuations: ['Familie', 'Haus', 'Haus', 'Gartens', 'Fassade']\n"
     ]
    }
   ],
   "source": [
    "\n",
    "# Suggest similar words or predict based on context\n",
    "similar_words = [word.text for word in doc if word.pos_ == \"NOUN\"]\n",
    "print(\"Potential continuations:\", similar_words)\n"
   ]
  },
  {
   "cell_type": "code",
   "execution_count": null,
   "metadata": {},
   "outputs": [],
   "source": []
  }
 ],
 "metadata": {
  "kernelspec": {
   "display_name": ".venv",
   "language": "python",
   "name": "python3"
  },
  "language_info": {
   "codemirror_mode": {
    "name": "ipython",
    "version": 3
   },
   "file_extension": ".py",
   "mimetype": "text/x-python",
   "name": "python",
   "nbconvert_exporter": "python",
   "pygments_lexer": "ipython3",
   "version": "3.12.7"
  }
 },
 "nbformat": 4,
 "nbformat_minor": 2
}
