{
 "cells": [
  {
   "cell_type": "code",
   "execution_count": 5,
   "metadata": {},
   "outputs": [],
   "source": [
    "from dotenv import load_dotenv\n",
    "from openai import OpenAI \n",
    "import textwrap"
   ]
  },
  {
   "cell_type": "code",
   "execution_count": 2,
   "metadata": {},
   "outputs": [
    {
     "data": {
      "text/plain": [
       "True"
      ]
     },
     "execution_count": 2,
     "metadata": {},
     "output_type": "execute_result"
    }
   ],
   "source": [
    "load_dotenv()"
   ]
  },
  {
   "cell_type": "code",
   "execution_count": 3,
   "metadata": {},
   "outputs": [],
   "source": [
    "client = OpenAI()"
   ]
  },
  {
   "cell_type": "code",
   "execution_count": 10,
   "metadata": {},
   "outputs": [],
   "source": [
    "from IPython.display import Markdown, display\n",
    "\n",
    "def generate_response(user_message,\n",
    "        model=\"gpt-4o\", \n",
    "        system_prompt=\"You are a helpful assistant.\",  \n",
    "        temperature=1.0, \n",
    "        top_p=1.0, \n",
    "        max_tokens=2048):\n",
    "                      \n",
    "    response = client.chat.completions.create(\n",
    "        model=model,\n",
    "        messages=[\n",
    "            {\n",
    "                \"role\": \"system\",\n",
    "                \"content\": [\n",
    "                    {\n",
    "                        \"type\": \"text\",\n",
    "                        \"text\": system_prompt\n",
    "                    }\n",
    "                ]\n",
    "            },\n",
    "            {\n",
    "                \"role\": \"user\",\n",
    "                \"content\": [\n",
    "                    {\n",
    "                        \"type\": \"text\",\n",
    "                        \"text\": user_message\n",
    "                    }\n",
    "                ]\n",
    "            }\n",
    "        ],\n",
    "        temperature=temperature,\n",
    "        max_tokens=max_tokens,\n",
    "        top_p=top_p\n",
    "    )\n",
    "    # Get the response text\n",
    "    text = response.choices[0].message.content\n",
    "    \n",
    "    # Display as markdown instead of plain text\n",
    "    display(Markdown(text))"
   ]
  },
  {
   "cell_type": "code",
   "execution_count": 11,
   "metadata": {},
   "outputs": [
    {
     "data": {
      "text/markdown": [
       "The harmonic series is the infinite series defined as the sum of the reciprocals of the positive integers:\n",
       "\n",
       "\\[ H = \\sum_{n=1}^{\\infty} \\frac{1}{n} = 1 + \\frac{1}{2} + \\frac{1}{3} + \\frac{1}{4} + \\frac{1}{5} + \\cdots \\]\n",
       "\n",
       "Despite each of its terms becoming smaller and smaller as \\( n \\) increases, the harmonic series diverges, meaning its sum grows without bound. This can be shown through several methods, one classical approach being a comparison test. For example, you can compare the harmonic series to a related series formed by grouping terms:\n",
       "\n",
       "\\[\n",
       "1 + \\left(\\frac{1}{2}\\right) + \\left(\\frac{1}{3} + \\frac{1}{4}\\right) + \\left(\\frac{1}{5} + \\frac{1}{6} + \\frac{1}{7} + \\frac{1}{8}\\right) + \\cdots\n",
       "\\]\n",
       "\n",
       "Each group \\( n \\) (where \\( n \\geq 1 \\)) contains \\( 2^{n-1} \\) terms, each of which is greater than or equal to \\( \\frac{1}{2^n} \\), leading to the inequality:\n",
       "\n",
       "\\[\n",
       "1 + \\frac{1}{2} + \\left(\\frac{1}{3} + \\frac{1}{4}\\right) + \\left(\\frac{1}{5} + \\frac{1}{6} + \\frac{1}{7} + \\frac{1}{8}\\right) + \\cdots > 1 + \\frac{1}{2} + \\frac{2}{4} + \\frac{4}{8} + \\cdots\n",
       "\\]\n",
       "\n",
       "\\[ = 1 + \\frac{1}{2} + \\frac{1}{2} + \\frac{1}{2} + \\cdots \\]\n",
       "\n",
       "Each additional block sums to at least \\( \\frac{1}{2} \\), demonstrating that the harmonic series' sum can exceed any finite number as more terms and further groups are added.\n",
       "\n",
       "Furthermore, the \\( n \\)-th partial sum of the harmonic series, denoted \\( H_n = 1 + \\frac{1}{2} + \\frac{1}{3} + \\cdots + \\frac{1}{n} \\), is approximately logarithmic in growth: \n",
       "\n",
       "\\[ H_n \\approx \\ln(n) + \\gamma \\]\n",
       "\n",
       "where \\( \\gamma \\) is the Euler-Mascheroni constant, approximately 0.577. The term \\( \\ln(n) \\) shows how the harmonic series diverges very slowly."
      ],
      "text/plain": [
       "<IPython.core.display.Markdown object>"
      ]
     },
     "metadata": {},
     "output_type": "display_data"
    }
   ],
   "source": [
    "generate_response(user_message=\"Explain the harmonic series\")"
   ]
  },
  {
   "cell_type": "code",
   "execution_count": null,
   "metadata": {},
   "outputs": [],
   "source": []
  }
 ],
 "metadata": {
  "kernelspec": {
   "display_name": ".venv",
   "language": "python",
   "name": "python3"
  },
  "language_info": {
   "codemirror_mode": {
    "name": "ipython",
    "version": 3
   },
   "file_extension": ".py",
   "mimetype": "text/x-python",
   "name": "python",
   "nbconvert_exporter": "python",
   "pygments_lexer": "ipython3",
   "version": "3.12.7"
  }
 },
 "nbformat": 4,
 "nbformat_minor": 2
}
